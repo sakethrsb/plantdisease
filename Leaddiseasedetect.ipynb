{
  "nbformat": 4,
  "nbformat_minor": 0,
  "metadata": {
    "colab": {
      "provenance": [],
      "authorship_tag": "ABX9TyPWHMEqHNX/U/jdP8mrQ10G",
      "include_colab_link": true
    },
    "kernelspec": {
      "name": "python3",
      "display_name": "Python 3"
    },
    "language_info": {
      "name": "python"
    }
  },
  "cells": [
    {
      "cell_type": "markdown",
      "metadata": {
        "id": "view-in-github",
        "colab_type": "text"
      },
      "source": [
        "<a href=\"https://colab.research.google.com/github/sakethrsb/plantdisease/blob/main/Leaddiseasedetect.ipynb\" target=\"_parent\"><img src=\"https://colab.research.google.com/assets/colab-badge.svg\" alt=\"Open In Colab\"/></a>"
      ]
    },
    {
      "cell_type": "code",
      "execution_count": 1,
      "metadata": {
        "id": "zlPS1En4XG0N"
      },
      "outputs": [],
      "source": [
        "import tensorflow as tf\n",
        "from tensorflow.keras.models import Sequential,Model\n",
        "from tensorflow.keras.layers import Dense,Flatten,Conv2D,MaxPooling2D\n",
        "from tensorflow.keras.layers import AveragePooling2D\n",
        "from tensorflow.keras.layers  import Concatenate\n",
        "from tensorflow.keras.layers import AveragePooling2D, Dropout, Input, BatchNormalization\n",
        "from tensorflow import keras\n",
        "from tensorflow.keras import layers\n",
        "from tensorflow.keras.optimizers import SGD\n",
        "from tensorflow.keras.optimizers import Adam\n",
        "from sklearn.metrics import classification_report, confusion_matrix\n",
        "from PIL import Image\n",
        "from tqdm import tqdm\n",
        "import urllib\n",
        "from tensorflow.keras.preprocessing import image\n",
        "from sklearn.metrics import precision_recall_curve,roc_curve, auc\n",
        "from sklearn.metrics import accuracy_score\n",
        "from sklearn.metrics import roc_auc_score\n",
        "import matplotlib.pyplot as plt\n",
        "import os\n",
        "from sklearn.metrics import log_loss, brier_score_loss\n",
        "from sklearn.metrics import cohen_kappa_score\n",
        "import matplotlib.cm as cm\n",
        "from sklearn.metrics import matthews_corrcoef\n",
        "import pandas as pd\n",
        "import seaborn as sns\n",
        "import numpy as np\n",
        "import cv2\n",
        "from sklearn.preprocessing import label_binarize\n",
        "from sklearn.metrics import average_precision_score\n",
        "from tensorflow.keras.utils import to_categorical\n",
        "%matplotlib inline"
      ]
    },
    {
      "cell_type": "code",
      "source": [
        "image_path=\"../input/new-plant-diseases-dataset/New Plant Diseases Dataset(Augmented)/New Plant Diseases Dataset(Augmented)/train/\""
      ],
      "metadata": {
        "id": "0lIHfYb8XQwJ"
      },
      "execution_count": 2,
      "outputs": []
    },
    {
      "cell_type": "code",
      "source": [
        "train_image_path=\"../input/new-plant-diseases-dataset/New Plant Diseases Dataset(Augmented)/New Plant Diseases Dataset(Augmented)/train/\"\n",
        "valid_image_path=\"../input/new-plant-diseases-dataset/New Plant Diseases Dataset(Augmented)/New Plant Diseases Dataset(Augmented)/valid/\"\n",
        "test_image_path=\"../input/new-plant-diseases-dataset/test/\""
      ],
      "metadata": {
        "id": "Hnincc7EXQ5d"
      },
      "execution_count": 3,
      "outputs": []
    },
    {
      "cell_type": "code",
      "source": [
        "class_names = os.listdir(image_path)\n",
        "print(class_names)"
      ],
      "metadata": {
        "colab": {
          "base_uri": "https://localhost:8080/",
          "height": 180
        },
        "id": "OZyt1Sb2XY_-",
        "outputId": "31275eb7-4f95-483e-eacd-88009b53b390"
      },
      "execution_count": 4,
      "outputs": [
        {
          "output_type": "error",
          "ename": "FileNotFoundError",
          "evalue": "[Errno 2] No such file or directory: '../input/new-plant-diseases-dataset/New Plant Diseases Dataset(Augmented)/New Plant Diseases Dataset(Augmented)/train/'",
          "traceback": [
            "\u001b[0;31m---------------------------------------------------------------------------\u001b[0m",
            "\u001b[0;31mFileNotFoundError\u001b[0m                         Traceback (most recent call last)",
            "\u001b[0;32m<ipython-input-4-7021009d000d>\u001b[0m in \u001b[0;36m<cell line: 1>\u001b[0;34m()\u001b[0m\n\u001b[0;32m----> 1\u001b[0;31m \u001b[0mclass_names\u001b[0m \u001b[0;34m=\u001b[0m \u001b[0mos\u001b[0m\u001b[0;34m.\u001b[0m\u001b[0mlistdir\u001b[0m\u001b[0;34m(\u001b[0m\u001b[0mimage_path\u001b[0m\u001b[0;34m)\u001b[0m\u001b[0;34m\u001b[0m\u001b[0;34m\u001b[0m\u001b[0m\n\u001b[0m\u001b[1;32m      2\u001b[0m \u001b[0mprint\u001b[0m\u001b[0;34m(\u001b[0m\u001b[0mclass_names\u001b[0m\u001b[0;34m)\u001b[0m\u001b[0;34m\u001b[0m\u001b[0;34m\u001b[0m\u001b[0m\n",
            "\u001b[0;31mFileNotFoundError\u001b[0m: [Errno 2] No such file or directory: '../input/new-plant-diseases-dataset/New Plant Diseases Dataset(Augmented)/New Plant Diseases Dataset(Augmented)/train/'"
          ]
        }
      ]
    },
    {
      "cell_type": "code",
      "source": [
        "numberof_images={}\n",
        "for class_name in class_names:\n",
        "    numberof_images[class_name]=len(os.listdir(image_path+\"/\"+class_name))\n",
        "images_each_class=pd.DataFrame(numberof_images.values(),index=numberof_images.keys(),columns=[\"Number of images\"])\n",
        "images_each_class"
      ],
      "metadata": {
        "colab": {
          "base_uri": "https://localhost:8080/",
          "height": 233
        },
        "id": "eo0AQtxtXZAn",
        "outputId": "01629a07-e07a-4659-b723-640a0d4f6660"
      },
      "execution_count": 5,
      "outputs": [
        {
          "output_type": "error",
          "ename": "NameError",
          "evalue": "name 'class_names' is not defined",
          "traceback": [
            "\u001b[0;31m---------------------------------------------------------------------------\u001b[0m",
            "\u001b[0;31mNameError\u001b[0m                                 Traceback (most recent call last)",
            "\u001b[0;32m<ipython-input-5-102d0d9127ba>\u001b[0m in \u001b[0;36m<cell line: 2>\u001b[0;34m()\u001b[0m\n\u001b[1;32m      1\u001b[0m \u001b[0mnumberof_images\u001b[0m\u001b[0;34m=\u001b[0m\u001b[0;34m{\u001b[0m\u001b[0;34m}\u001b[0m\u001b[0;34m\u001b[0m\u001b[0;34m\u001b[0m\u001b[0m\n\u001b[0;32m----> 2\u001b[0;31m \u001b[0;32mfor\u001b[0m \u001b[0mclass_name\u001b[0m \u001b[0;32min\u001b[0m \u001b[0mclass_names\u001b[0m\u001b[0;34m:\u001b[0m\u001b[0;34m\u001b[0m\u001b[0;34m\u001b[0m\u001b[0m\n\u001b[0m\u001b[1;32m      3\u001b[0m     \u001b[0mnumberof_images\u001b[0m\u001b[0;34m[\u001b[0m\u001b[0mclass_name\u001b[0m\u001b[0;34m]\u001b[0m\u001b[0;34m=\u001b[0m\u001b[0mlen\u001b[0m\u001b[0;34m(\u001b[0m\u001b[0mos\u001b[0m\u001b[0;34m.\u001b[0m\u001b[0mlistdir\u001b[0m\u001b[0;34m(\u001b[0m\u001b[0mimage_path\u001b[0m\u001b[0;34m+\u001b[0m\u001b[0;34m\"/\"\u001b[0m\u001b[0;34m+\u001b[0m\u001b[0mclass_name\u001b[0m\u001b[0;34m)\u001b[0m\u001b[0;34m)\u001b[0m\u001b[0;34m\u001b[0m\u001b[0;34m\u001b[0m\u001b[0m\n\u001b[1;32m      4\u001b[0m \u001b[0mimages_each_class\u001b[0m\u001b[0;34m=\u001b[0m\u001b[0mpd\u001b[0m\u001b[0;34m.\u001b[0m\u001b[0mDataFrame\u001b[0m\u001b[0;34m(\u001b[0m\u001b[0mnumberof_images\u001b[0m\u001b[0;34m.\u001b[0m\u001b[0mvalues\u001b[0m\u001b[0;34m(\u001b[0m\u001b[0;34m)\u001b[0m\u001b[0;34m,\u001b[0m\u001b[0mindex\u001b[0m\u001b[0;34m=\u001b[0m\u001b[0mnumberof_images\u001b[0m\u001b[0;34m.\u001b[0m\u001b[0mkeys\u001b[0m\u001b[0;34m(\u001b[0m\u001b[0;34m)\u001b[0m\u001b[0;34m,\u001b[0m\u001b[0mcolumns\u001b[0m\u001b[0;34m=\u001b[0m\u001b[0;34m[\u001b[0m\u001b[0;34m\"Number of images\"\u001b[0m\u001b[0;34m]\u001b[0m\u001b[0;34m)\u001b[0m\u001b[0;34m\u001b[0m\u001b[0;34m\u001b[0m\u001b[0m\n\u001b[1;32m      5\u001b[0m \u001b[0mimages_each_class\u001b[0m\u001b[0;34m\u001b[0m\u001b[0;34m\u001b[0m\u001b[0m\n",
            "\u001b[0;31mNameError\u001b[0m: name 'class_names' is not defined"
          ]
        }
      ]
    },
    {
      "cell_type": "code",
      "source": [
        "batch_size=32"
      ],
      "metadata": {
        "id": "jY63ar4jXZCy"
      },
      "execution_count": null,
      "outputs": []
    },
    {
      "cell_type": "code",
      "source": [
        "traindata_generator=tf.keras.preprocessing.image.ImageDataGenerator(rescale=1./255,zoom_range=0.2,width_shift_range=0.2,height_shift_range=0.2,\n",
        "                                                                    shear_range=0.2, horizontal_flip=True,validation_split=0.2)\n",
        "\n",
        "validdata_generator=tf.keras.preprocessing.image.ImageDataGenerator(rescale=1./255)\n",
        "testdata_generator=tf.keras.preprocessing.image.ImageDataGenerator(rescale=1./255)"
      ],
      "metadata": {
        "id": "8CbtSA5AXZFr"
      },
      "execution_count": null,
      "outputs": []
    },
    {
      "cell_type": "code",
      "source": [
        "train_data_generator=traindata_generator.flow_from_directory(train_image_path,batch_size=batch_size,class_mode=\"categorical\",\n",
        "                                                           target_size=(120,120),color_mode=\"rgb\",shuffle=True )"
      ],
      "metadata": {
        "id": "Wyfrh76_XxUL"
      },
      "execution_count": null,
      "outputs": []
    },
    {
      "cell_type": "code",
      "source": [
        "valid_data_generator=validdata_generator.flow_from_directory(train_image_path,batch_size=batch_size,class_mode=\"categorical\",\n",
        "                                                           target_size=(120,120),color_mode=\"rgb\",shuffle=True )"
      ],
      "metadata": {
        "id": "WG9UYGLfXxPa"
      },
      "execution_count": null,
      "outputs": []
    },
    {
      "cell_type": "code",
      "source": [
        "test_data_generator=testdata_generator.flow_from_directory(valid_image_path,batch_size=batch_size,class_mode=\"categorical\",\n",
        "                                                           target_size=(120,120),color_mode=\"rgb\",shuffle=False )"
      ],
      "metadata": {
        "id": "7Kn0aqQMXxOv"
      },
      "execution_count": null,
      "outputs": []
    },
    {
      "cell_type": "code",
      "source": [
        "train_number=train_data_generator.samples\n",
        "valid_number=valid_data_generator.samples"
      ],
      "metadata": {
        "id": "I-xJPDtpYKMa"
      },
      "execution_count": null,
      "outputs": []
    },
    {
      "cell_type": "code",
      "source": [
        "def inceptionnet(x,filters):\n",
        "\n",
        "    #(1x1) layer\n",
        "    layer1=Conv2D(filters=filters[0],kernel_size=(1,1),strides=1,padding=\"same\",activation=\"relu\")(x)\n",
        "\n",
        "    #(3x3) layer\n",
        "    layer2=Conv2D(filters=filters[1][0],kernel_size=(1,1),strides=1,padding=\"same\",activation=\"relu\")(x)\n",
        "\n",
        "\n",
        "    layer2=Conv2D(filters=filters[1][1],kernel_size=(1,1),strides=1,padding=\"same\",activation=\"relu\")(layer2)\n",
        "\n",
        "    #(5x5) layer\n",
        "\n",
        "    layer3=Conv2D(filters=filters[2][0],kernel_size=(5,5),strides=1,padding=\"same\",activation=\"relu\")(x)\n",
        "\n",
        "    layers=Conv2D(filters=filters[2][1],kernel_size=(5,5),strides=1,padding=\"same\",activation=\"relu\")(layer3)\n",
        "\n",
        "\n",
        "\n",
        "    layer4=MaxPooling2D(pool_size=(3,3),strides=1,padding=\"same\")(x)\n",
        "    layer4=Conv2D(filters=filters[3],kernel_size=(1,1),strides=1,padding=\"same\",activation=\"relu\")(layer4)\n",
        "\n",
        "\n",
        "    return Concatenate(axis=-1)([layer1,layer2,layer3,layer4])\n",
        "\n",
        "\n",
        "def helperfunction(x,name=None):\n",
        "\n",
        "    layer=AveragePooling2D(pool_size=(5,5),strides=3,padding=\"valid\")(x)\n",
        "\n",
        "    layer=Conv2D(filters=128,kernel_size=(1,1),strides=1,padding=\"same\",activation=\"relu\")(layer)\n",
        "\n",
        "    layer=Flatten()(layer)\n",
        "\n",
        "    layer=Dense(units=255,activation=\"relu\")(layer)\n",
        "\n",
        "    layer=Dropout(0.4)(layer)\n",
        "    layer=Dense(units=38,activation=\"softmax\",name=name)(layer)\n",
        "\n",
        "    return layer\n",
        "\n",
        "\n",
        "def googlenet():\n",
        "\n",
        "    #taking layer input\n",
        "    inputlayer=Input(shape=(120,120,3))\n",
        "\n",
        "    #layer_1\n",
        "    layer=Conv2D(filters=64,kernel_size=(7,7),strides=1,padding=\"same\",activation=\"relu\")(inputlayer)\n",
        "\n",
        "    layer=MaxPooling2D(pool_size=(3,3),strides=2,padding=\"same\")(layer)\n",
        "\n",
        "    layer=BatchNormalization()(layer)\n",
        "\n",
        "    #layer_2\n",
        "    layer=Conv2D(filters=64,kernel_size=(1,1),strides=1,padding=\"same\",activation=\"relu\")(layer)\n",
        "\n",
        "    layer=Conv2D(filters=192,kernel_size=(3,3),strides=1,padding=\"same\",activation=\"relu\")(layer)\n",
        "\n",
        "    layer=BatchNormalization()(layer)\n",
        "    layer=MaxPooling2D(pool_size=(3,3),strides=2,padding=\"same\")(layer)\n",
        "\n",
        "    #layer_3\n",
        "    layer=inceptionnet(layer,[64,(96,128),(16,32),32])\n",
        "    layer=inceptionnet(layer,[128,(128,192),(32,96),64])\n",
        "    layer=MaxPooling2D(pool_size=(3,3),strides=2,padding=\"same\")(layer)\n",
        "\n",
        "    #layer_4\n",
        "    layer=inceptionnet(layer,[192,(96,208),(16,48),64])\n",
        "    final_0=helperfunction(layer,name=\"final_layer_0\")\n",
        "\n",
        "    layer=inceptionnet(layer,[160,(112,224),(24,64),64])\n",
        "    layer=inceptionnet(layer,[128,(128,256),(24,64),64])\n",
        "    layer=inceptionnet(layer,[112,(144,288),(32,64),64])\n",
        "    final_1=helperfunction(layer,name=\"final_layer_1\")\n",
        "\n",
        "    layer=inceptionnet(layer,[256,(160,320),(32,128),128])\n",
        "    layer=MaxPooling2D(pool_size=(3,3),strides=2,padding=\"same\")(layer)\n",
        "\n",
        "\n",
        "    #layer_5\n",
        "    layer=inceptionnet(layer,[256,(160,320),(32,128),128])\n",
        "    layer=inceptionnet(layer,[384,(192,384),(48,128),128])\n",
        "    layer=AveragePooling2D(pool_size=(7,7),strides=1,padding=\"same\")(layer)\n",
        "\n",
        "    #layer_6\n",
        "\n",
        "    layer=Flatten()(layer)\n",
        "    layer=Dropout(0.4)(layer)\n",
        "    layer=Dense(units=256,activation=\"linear\")(layer)\n",
        "    final_2=Dense(units=38,activation=\"softmax\",name=\"final_layer_2\")(layer)\n",
        "\n",
        "\n",
        "    model=Model(inputs=inputlayer,outputs=[final_2,final_0,final_1])\n",
        "\n",
        "    return model"
      ],
      "metadata": {
        "id": "rdBJ9NlOYKTu"
      },
      "execution_count": null,
      "outputs": []
    },
    {
      "cell_type": "code",
      "source": [
        "model=googlenet()\n",
        "model.summary()"
      ],
      "metadata": {
        "id": "MauaeGtoYKUa"
      },
      "execution_count": null,
      "outputs": []
    },
    {
      "cell_type": "code",
      "source": [
        "learning_rate = 0.001\n",
        "\n",
        "opti = Adam(learning_rate=learning_rate)\n",
        "\n",
        "model.compile(loss=['categorical_crossentropy', 'categorical_crossentropy', 'categorical_crossentropy'], loss_weights=[1, 0.3, 0.3], optimizer=opti, metrics=['accuracy'])"
      ],
      "metadata": {
        "id": "KV7V1L-lYKWh"
      },
      "execution_count": null,
      "outputs": []
    },
    {
      "cell_type": "code",
      "source": [
        "history = model.fit(train_data_generator,\n",
        "                    validation_data=valid_data_generator,\n",
        "                    steps_per_epoch=train_number // batch_size,\n",
        "                    epochs=3,\n",
        "                    validation_steps=valid_number // batch_size,\n",
        "                    verbose=1)"
      ],
      "metadata": {
        "id": "olBXBCUEYKcy"
      },
      "execution_count": null,
      "outputs": []
    },
    {
      "cell_type": "code",
      "source": [
        "model.save(\"model.h5\")\n",
        "from tensorflow.keras.models import load_model\n",
        "\n",
        "model = load_model(\"model.h5\")"
      ],
      "metadata": {
        "id": "y0K8t9QKYKda"
      },
      "execution_count": null,
      "outputs": []
    },
    {
      "cell_type": "code",
      "source": [
        "pred, _, _=model.predict(test_data_generator)\n",
        "final_predict = np.argmax(pred,axis=1)\n",
        "true_data=test_data_generator.classes"
      ],
      "metadata": {
        "id": "Zp5h4ZZdYgsE"
      },
      "execution_count": null,
      "outputs": []
    },
    {
      "cell_type": "code",
      "source": [
        "acc_score = accuracy_score(true_data,final_predict)\n",
        "print(f'Accuracy Score: {acc_score:.4f}')"
      ],
      "metadata": {
        "id": "yg68xmi-YhP9"
      },
      "execution_count": null,
      "outputs": []
    },
    {
      "cell_type": "code",
      "source": [
        "plt.figure(figsize=(40,40))\n",
        "confusion = confusion_matrix(true_data, final_predict)\n",
        "sns.heatmap(confusion, annot=True, fmt='d', cmap='jet',xticklabels=class_names,\n",
        "            yticklabels=class_names,lw=6)\n",
        "plt.xlabel('Predicted',fontsize=20,color=\"black\")\n",
        "plt.ylabel('True',fontsize=20,color=\"black\")\n",
        "plt.title('Confusion Matrix\\n',fontsize=20,color=\"black\")\n",
        "plt.show()"
      ],
      "metadata": {
        "id": "sHBHXxPDYhQs"
      },
      "execution_count": null,
      "outputs": []
    },
    {
      "cell_type": "code",
      "source": [
        "print(classification_report(true_data, final_predict,target_names=class_names))"
      ],
      "metadata": {
        "id": "rM5qOiuZYhSz"
      },
      "execution_count": null,
      "outputs": []
    },
    {
      "cell_type": "code",
      "source": [
        "plt.figure(figsize=(15, 15))\n",
        "\n",
        "img_url = \"https://cdn.britannica.com/89/126689-004-D622CD2F/Potato-leaf-blight.jpg\"\n",
        "\n",
        "filename, headers = urllib.request.urlretrieve(img_url)\n",
        "img_path = os.path.join(os.getcwd(), filename)\n",
        "img = Image.open(img_path)\n",
        "img = img.resize((120, 120))\n",
        "img = np.array(img) / 255.0\n",
        "img = np.expand_dims(img, axis=0)\n",
        "probs = model.predict(img)[0]\n",
        "\n",
        "# Get the predicted class index and name\n",
        "pred_class_prob = np.argmax(probs)\n",
        "pred_class_name = class_names[pred_class_prob]\n",
        "\n",
        "max_prob = np.max(probs)\n",
        "print(f'Predicted class: {pred_class_name}')\n",
        "print(f'Maximum probability: {max_prob}')\n",
        "\n",
        "# Display the image with the predicted class and probability\n",
        "plt.imshow(img[0])\n",
        "plt.axis('off')\n",
        "plt.text(5, 15, f'Predicted class: {pred_class_name}\\nMaximum probability: {max_prob:.2f}', fontsize=20, color='red', bbox=dict(facecolor='white', alpha=0.8))\n",
        "plt.show()"
      ],
      "metadata": {
        "id": "oKGExhomYhWJ"
      },
      "execution_count": null,
      "outputs": []
    },
    {
      "cell_type": "code",
      "source": [
        "plt.figure(figsize=(15, 15))\n",
        "\n",
        "img_url = \"https://cdn.britannica.com/89/126689-004-D622CD2F/Potato-leaf-blight.jpg\"\n",
        "\n",
        "filename, headers = urllib.request.urlretrieve(img_url)\n",
        "img_path = os.path.join(os.getcwd(), filename)\n",
        "img = Image.open(img_path)\n",
        "img = img.resize((120, 120))\n",
        "img = np.array(img) / 255.0\n",
        "img = np.expand_dims(img, axis=0)\n",
        "probs = model.predict(img)[0]\n",
        "\n",
        "# Get the predicted class index and name\n",
        "pred_class_prob = np.argmax(probs)\n",
        "pred_class_name = class_names[pred_class_prob]\n",
        "\n",
        "max_prob = np.max(probs)\n",
        "print(f'Predicted class: {pred_class_name}')\n",
        "print(f'Maximum probability: {max_prob}')\n",
        "\n",
        "# Display the image with the predicted class and probability\n",
        "plt.imshow(img[0])\n",
        "plt.axis('off')\n",
        "plt.text(5, 15, f'Predicted class: {pred_class_name}\\nMaximum probability: {max_prob:.2f}', fontsize=20, color='red', bbox=dict(facecolor='white', alpha=0.8))\n",
        "plt.show()"
      ],
      "metadata": {
        "id": "AdXmT0B8Y2hp"
      },
      "execution_count": null,
      "outputs": []
    },
    {
      "cell_type": "code",
      "source": [
        "plt.figure(figsize=(15, 15))\n",
        "\n",
        "img_url = \"https://cdn.britannica.com/89/126689-004-D622CD2F/Potato-leaf-blight.jpg\"\n",
        "\n",
        "filename, headers = urllib.request.urlretrieve(img_url)\n",
        "img_path = os.path.join(os.getcwd(), filename)\n",
        "img = Image.open(img_path)\n",
        "img = img.resize((120, 120))\n",
        "img = np.array(img) / 255.0\n",
        "img = np.expand_dims(img, axis=0)\n",
        "probs = model.predict(img)[0]\n",
        "\n",
        "# Get the predicted class index and name\n",
        "pred_class_prob = np.argmax(probs)\n",
        "pred_class_name = class_names[pred_class_prob]\n",
        "\n",
        "max_prob = np.max(probs)\n",
        "print(f'Predicted class: {pred_class_name}')\n",
        "print(f'Maximum probability: {max_prob}')\n",
        "\n",
        "# Display the image with the predicted class and probability\n",
        "plt.imshow(img[0])\n",
        "plt.axis('off')\n",
        "plt.text(5, 15, f'Predicted class: {pred_class_name}\\nMaximum probability: {max_prob:.2f}', fontsize=20, color='red', bbox=dict(facecolor='white', alpha=0.8))\n",
        "plt.show()"
      ],
      "metadata": {
        "id": "pfCafwknY2ic"
      },
      "execution_count": null,
      "outputs": []
    },
    {
      "cell_type": "code",
      "source": [],
      "metadata": {
        "id": "p0DM4lbUY2ks"
      },
      "execution_count": null,
      "outputs": []
    },
    {
      "cell_type": "code",
      "source": [],
      "metadata": {
        "id": "o3dtFFGpY2nU"
      },
      "execution_count": null,
      "outputs": []
    }
  ]
}